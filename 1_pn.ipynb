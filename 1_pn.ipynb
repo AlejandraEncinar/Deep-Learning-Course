{
 "cells": [
  {
   "cell_type": "markdown",
   "metadata": {
    "deletable": false,
    "editable": false,
    "nbgrader": {
     "cell_type": "markdown",
     "checksum": "85f90de9de507af2493270d51de7ed5d",
     "grade": false,
     "grade_id": "cell-b247a7c1a13a2809",
     "locked": true,
     "schema_version": 3,
     "solution": false,
     "task": false
    }
   },
   "source": [
    "<div class=\"alert alert-block alert-info\">\n",
    "<b>Deadline:</b> May 22, 2024 (Wednesday) 23:00\n",
    "</div>\n",
    "\n",
    "# Exercise 1. Few-shot learning with Prototypical Networks\n",
    "\n",
    "The goal of the exercise is to get familiar with methods that can solve few-shot classification tasks. In this noteboook, we will implement Prototypical Networks. We recommend you to read the original paper by [Snell et al, (2017)](https://arxiv.org/pdf/1703.05175.pdf) before doing this assignment."
   ]
  },
  {
   "cell_type": "code",
   "execution_count": 1,
   "metadata": {
    "deletable": false,
    "editable": false,
    "nbgrader": {
     "cell_type": "code",
     "checksum": "92cb6fe65e5885e47aa273f08f29844d",
     "grade": false,
     "grade_id": "cell-876af25c4c417ca0",
     "locked": true,
     "schema_version": 3,
     "solution": false,
     "task": false
    },
    "tags": []
   },
   "outputs": [],
   "source": [
    "# We will use interactive figures in this notebook\n",
    "%matplotlib widget"
   ]
  },
  {
   "cell_type": "code",
   "execution_count": 41,
   "metadata": {
    "tags": []
   },
   "outputs": [],
   "source": [
    "skip_training = True  # Set this flag to True before validation and submission"
   ]
  },
  {
   "cell_type": "code",
   "execution_count": 3,
   "metadata": {
    "deletable": false,
    "editable": false,
    "nbgrader": {
     "cell_type": "code",
     "checksum": "183440b39c7428817d72a6af88fb618c",
     "grade": true,
     "grade_id": "cell-f357feeef0e44248",
     "locked": true,
     "points": 0,
     "schema_version": 3,
     "solution": false,
     "task": false
    },
    "tags": []
   },
   "outputs": [],
   "source": [
    "# During evaluation, this cell sets skip_training to True\n",
    "# skip_training = True\n",
    "\n",
    "import tools, warnings\n",
    "warnings.showwarning = tools.customwarn"
   ]
  },
  {
   "cell_type": "code",
   "execution_count": 4,
   "metadata": {
    "deletable": false,
    "editable": false,
    "nbgrader": {
     "cell_type": "code",
     "checksum": "c01a459c596256e51959916bc5cb86dd",
     "grade": false,
     "grade_id": "cell-68d82bb6c9d904b2",
     "locked": true,
     "schema_version": 3,
     "solution": false,
     "task": false
    },
    "tags": []
   },
   "outputs": [],
   "source": [
    "import os\n",
    "import time\n",
    "import numpy as np\n",
    "import matplotlib.pyplot as plt\n",
    "\n",
    "import torch\n",
    "import torchvision\n",
    "import torchvision.transforms as transforms\n",
    "\n",
    "import torch.nn as nn\n",
    "import torch.nn.functional as F\n",
    "import torch.optim as optim\n",
    "\n",
    "from torch.utils.data import DataLoader, Dataset\n",
    "\n",
    "import tools\n",
    "import tests"
   ]
  },
  {
   "cell_type": "code",
   "execution_count": 5,
   "metadata": {
    "tags": []
   },
   "outputs": [
    {
     "name": "stdout",
     "output_type": "stream",
     "text": [
      "The data directory is /coursedata\n"
     ]
    }
   ],
   "source": [
    "# When running on your own computer, you can specify the data directory by:\n",
    "# data_dir = tools.select_data_dir('/your/local/data/directory')\n",
    "data_dir = tools.select_data_dir()"
   ]
  },
  {
   "cell_type": "code",
   "execution_count": 6,
   "metadata": {
    "tags": []
   },
   "outputs": [],
   "source": [
    "# Select the device for training (use GPU if you have one)\n",
    "#device = torch.device('cuda:0')\n",
    "device = torch.device('cpu')"
   ]
  },
  {
   "cell_type": "code",
   "execution_count": 7,
   "metadata": {
    "deletable": false,
    "editable": false,
    "nbgrader": {
     "cell_type": "code",
     "checksum": "b10c40a5a2c0dd319ea8797e07aabfc5",
     "grade": false,
     "grade_id": "cell-dd5ea972af42eeac",
     "locked": true,
     "schema_version": 3,
     "solution": false,
     "task": false
    },
    "tags": []
   },
   "outputs": [],
   "source": [
    "if skip_training:\n",
    "    # The models are always evaluated on CPU\n",
    "    device = torch.device(\"cpu\")"
   ]
  },
  {
   "cell_type": "markdown",
   "metadata": {
    "deletable": false,
    "editable": false,
    "nbgrader": {
     "cell_type": "markdown",
     "checksum": "fbe2ce55acaab3de8e2c5922d90cd032",
     "grade": false,
     "grade_id": "cell-6dde5ca26c51bf91",
     "locked": true,
     "schema_version": 3,
     "solution": false,
     "task": false
    }
   },
   "source": [
    "# Omniglot data\n",
    "\n",
    "We will use Omniglot data for training. Omniglot is a collection of 19280 images of 964 characters from 30 alphabets. There are 20 images for each of the 964 characters in the dataset."
   ]
  },
  {
   "cell_type": "code",
   "execution_count": 9,
   "metadata": {
    "deletable": false,
    "editable": false,
    "nbgrader": {
     "cell_type": "code",
     "checksum": "371ef3feec7da10179525bd70b54a079",
     "grade": false,
     "grade_id": "cell-1c347de01112e2c1",
     "locked": true,
     "schema_version": 3,
     "solution": false,
     "task": false
    },
    "tags": []
   },
   "outputs": [
    {
     "name": "stdout",
     "output_type": "stream",
     "text": [
      "Files already downloaded and verified\n"
     ]
    }
   ],
   "source": [
    "transform = transforms.Compose([transforms.ToTensor()])\n",
    "dataset = torchvision.datasets.Omniglot(root=data_dir, download=True, transform=transform)"
   ]
  },
  {
   "cell_type": "code",
   "execution_count": 10,
   "metadata": {
    "deletable": false,
    "editable": false,
    "nbgrader": {
     "cell_type": "code",
     "checksum": "8167b324529ee679168c93ebbab751b9",
     "grade": false,
     "grade_id": "cell-749dfef0478c4f4d",
     "locked": true,
     "schema_version": 3,
     "solution": false,
     "task": false
    },
    "tags": []
   },
   "outputs": [
    {
     "name": "stdout",
     "output_type": "stream",
     "text": [
      "torch.Size([1, 105, 105]) 0\n"
     ]
    }
   ],
   "source": [
    "# Let us plot some samples from the dataset.\n",
    "x, y = dataset[0]  # x is the image, y is the label (character)\n",
    "print(x.shape, y)"
   ]
  },
  {
   "cell_type": "code",
   "execution_count": 11,
   "metadata": {
    "deletable": false,
    "editable": false,
    "nbgrader": {
     "cell_type": "code",
     "checksum": "9dec021fa4fb764a4ea01493db623c87",
     "grade": false,
     "grade_id": "cell-8040506306c53bed",
     "locked": true,
     "schema_version": 3,
     "solution": false,
     "task": false
    },
    "tags": []
   },
   "outputs": [
    {
     "data": {
      "text/plain": [
       "<matplotlib.image.AxesImage at 0x7faeb3a4fa00>"
      ]
     },
     "execution_count": 11,
     "metadata": {},
     "output_type": "execute_result"
    },
    {
     "data": {
      "application/vnd.jupyter.widget-view+json": {
       "model_id": "2c9b6ce4a3f3483abc769ccd6e7f2bc7",
       "version_major": 2,
       "version_minor": 0
      },
      "image/png": "[encoded data removed]",
      "text/html": [
       "\n",
       "            <div style=\"display: inline-block;\">\n",
       "                <div class=\"jupyter-widgets widget-label\" style=\"text-align: center;\">\n",
       "                    Figure\n",
       "                </div>\n",
       "                <img src='data:image/png;base64,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' width=300.0/>\n",
       "            </div>\n",
       "        "
      ],
      "text/plain": [
       "Canvas(toolbar=Toolbar(toolitems=[('Home', 'Reset original view', 'home', 'home'), ('Back', 'Back to previous …"
      ]
     },
     "metadata": {},
     "output_type": "display_data"
    }
   ],
   "source": [
    "fig, ax = plt.subplots(1, figsize=(3, 3))\n",
    "ax.matshow(1-x[0], cmap=plt.cm.Greys)"
   ]
  },
  {
   "cell_type": "markdown",
   "metadata": {
    "deletable": false,
    "editable": false,
    "nbgrader": {
     "cell_type": "markdown",
     "checksum": "7a7f12995ac60af4290a53d696aeb513",
     "grade": false,
     "grade_id": "cell-6b4f5d99575d2215",
     "locked": true,
     "schema_version": 3,
     "solution": false,
     "task": false
    }
   },
   "source": [
    "## Custom data loader for the few-shot learning task\n",
    "\n",
    "The task of few-shot learning is to learn a classification task from a few training examples. In this notebook, we will consider $n$-way $k$-shot classification problems, when each classification problem has $n$ clases with $k$ examples per class in the training dataset.\n",
    "\n",
    "We take the meta-learning approach, in which we learn how to learn new ($N$-way $k$-shot classification) tasks using multiple training examples of tasks. Thus, in the meta-learning approach, a single \"training example\" is one learning (e.g. classification) task which comes from a distribution of tasks that we create using the Omniglot dataset. \n",
    "\n",
    "We perform meta-learning using **episodic training**. In each episode, we process one training task or a mini-batch of tasks. Each tasks contains two datasets:\n",
    "* *support set*, which is used to build a classifier,\n",
    "* *query set*, which is used to test the accuracy of the built classifier.\n",
    "\n",
    "In order to load such training examples in the training loop, we build a custom dataloader on top of the `Omniglot` dataset available in pytorch."
   ]
  },
  {
   "cell_type": "code",
   "execution_count": 12,
   "metadata": {
    "deletable": false,
    "editable": false,
    "nbgrader": {
     "cell_type": "code",
     "checksum": "8a73272261f1a7bc03e8e4d76a9c4fd4",
     "grade": false,
     "grade_id": "cell-6c59dacd2e44f93a",
     "locked": true,
     "schema_version": 3,
     "solution": false,
     "task": false
    },
    "tags": []
   },
   "outputs": [],
   "source": [
    "class OmniglotFewShot(Dataset):\n",
    "    \"\"\"Omniglot data set for few-shot learning.\n",
    "\n",
    "    Args:\n",
    "      root (string): Root directory to put the data.\n",
    "      n_support (int): Number of support samples in each training task.\n",
    "      n_query (int): Number of query samples in each training task.\n",
    "      transform (callable): Transforms applied to Omniglot images. We rescale them to 28x28,\n",
    "          convert to tensors and invert so that image backround is encoded as 0 (original Omniglot images have\n",
    "          background encoded as 1).\n",
    "      mix: If True, all examples can be used either as support or query examples. If False, the first\n",
    "          n_support images are always used as support examples and the following n_query images are used\n",
    "          as query examples.\n",
    "      train: If True, use training set. If False, use test set.\n",
    "    \"\"\"\n",
    "    def __init__(self, root, n_support, n_query,\n",
    "                 transform=transforms.Compose([\n",
    "                     transforms.Resize(28),\n",
    "                     transforms.ToTensor(),\n",
    "                     transforms.Lambda(lambda x: 1-x),\n",
    "                 ]),\n",
    "                 mix=False,  # Mix support and query examples\n",
    "                 train=True\n",
    "                ):\n",
    "\n",
    "        assert n_support + n_query <= 20, \"Omniglot contains only 20 images per character.\"\n",
    "        self.n_support = n_support\n",
    "        self.n_query = n_query\n",
    "        self.mix = mix\n",
    "        self.train = train  # training set or test set\n",
    "        \n",
    "        self._omniglot = torchvision.datasets.Omniglot(root=root, download=True, transform=transform)\n",
    "        \n",
    "        self.character_classes = character_classes = np.array([\n",
    "            character_class for _, character_class in self._omniglot._flat_character_images\n",
    "        ])\n",
    "        \n",
    "        n_classes = max(character_classes)\n",
    "        self.indices_for_class = {\n",
    "            i: np.where(character_classes == i)[0].tolist()\n",
    "            for i in range(n_classes)\n",
    "        }\n",
    "        \n",
    "        np.random.seed(1)\n",
    "        rp = np.random.permutation(n_classes)\n",
    "        if train:\n",
    "            self.used_classes = rp[:770]\n",
    "        else:\n",
    "            self.used_classes = rp[770:]\n",
    "        \n",
    "    def __getitem__(self, index):\n",
    "        \"\"\"\n",
    "        Returns:\n",
    "          support_query of shape (n_support+n_query, 1, height, width):\n",
    "                      support_query[:n_support] is the support set\n",
    "                      support_query[n_support:] is the query set\n",
    "        \"\"\"\n",
    "        class_ix = self.used_classes[index]\n",
    "        indices = self.indices_for_class[class_ix]\n",
    "        if self.mix:\n",
    "            indices = np.random.permutation(indices)\n",
    "\n",
    "        indices = indices[:self.n_support+self.n_query]  # First support, then query\n",
    "        support_query = torch.stack([self._omniglot[ix][0] for ix in indices])\n",
    "\n",
    "        return support_query\n",
    "\n",
    "    def __len__(self):\n",
    "        return len(self.used_classes)"
   ]
  },
  {
   "cell_type": "markdown",
   "metadata": {
    "deletable": false,
    "editable": false,
    "nbgrader": {
     "cell_type": "markdown",
     "checksum": "9b96c798274aa9434ce303c3e46ed42e",
     "grade": false,
     "grade_id": "cell-75bbc1cd6cdb5a67",
     "locked": true,
     "schema_version": 3,
     "solution": false,
     "task": false
    }
   },
   "source": [
    "One sample from the dataset represents one class which consists of `n_support` support samples and `n_query` query samples."
   ]
  },
  {
   "cell_type": "code",
   "execution_count": 13,
   "metadata": {
    "deletable": false,
    "editable": false,
    "nbgrader": {
     "cell_type": "code",
     "checksum": "12f7b9602280ff9d82ca9645b880ca92",
     "grade": false,
     "grade_id": "cell-8f9f6c2d4092564a",
     "locked": true,
     "schema_version": 3,
     "solution": false,
     "task": false
    },
    "tags": []
   },
   "outputs": [
    {
     "name": "stdout",
     "output_type": "stream",
     "text": [
      "Files already downloaded and verified\n",
      "torch.Size([4, 1, 28, 28])\n"
     ]
    }
   ],
   "source": [
    "dataset = OmniglotFewShot(root=data_dir, n_support=1, n_query=3, train=True)\n",
    "support_query = dataset[0]\n",
    "print(support_query.shape)"
   ]
  },
  {
   "cell_type": "markdown",
   "metadata": {
    "deletable": false,
    "editable": false,
    "nbgrader": {
     "cell_type": "markdown",
     "checksum": "4c36176e85bb5a81f7537811b0efac26",
     "grade": false,
     "grade_id": "cell-6b4a12058eb3d6bf",
     "locked": true,
     "schema_version": 3,
     "solution": false,
     "task": false
    }
   },
   "source": [
    "We can now build data for $n$-way $k$-shot classification tasks using the following data loader. Each mini-batch that this data loader produces is one $n$-way $k$-shot classification task. In principles, we could include more tasks into each mini-batch but we do not do it in this notebok."
   ]
  },
  {
   "cell_type": "code",
   "execution_count": 14,
   "metadata": {
    "deletable": false,
    "editable": false,
    "nbgrader": {
     "cell_type": "code",
     "checksum": "29c609bc344f41c3c536de7cb932a3f0",
     "grade": false,
     "grade_id": "cell-64b9da22f0738265",
     "locked": true,
     "schema_version": 3,
     "solution": false,
     "task": false
    },
    "tags": []
   },
   "outputs": [
    {
     "name": "stdout",
     "output_type": "stream",
     "text": [
      "torch.Size([5, 4, 1, 28, 28])\n"
     ]
    }
   ],
   "source": [
    "n_way = 5\n",
    "trainloader = DataLoader(dataset=dataset, batch_size=n_way, shuffle=True, pin_memory=True)\n",
    "\n",
    "for support_query in trainloader:\n",
    "    print(support_query.shape)\n",
    "    # support_query is (n-way, n_support+n_query, 1, 28, 28)\n",
    "    break"
   ]
  },
  {
   "cell_type": "markdown",
   "metadata": {
    "deletable": false,
    "editable": false,
    "nbgrader": {
     "cell_type": "markdown",
     "checksum": "e5211d58dfbab8bcc4c7e7a2da76a678",
     "grade": false,
     "grade_id": "cell-cd341221139edaeb",
     "locked": true,
     "schema_version": 3,
     "solution": false,
     "task": false
    }
   },
   "source": [
    "# Prototypical networks"
   ]
  },
  {
   "cell_type": "markdown",
   "metadata": {
    "deletable": false,
    "editable": false,
    "nbgrader": {
     "cell_type": "markdown",
     "checksum": "abcd173c953dfb449da80801382b2494",
     "grade": false,
     "grade_id": "cell-877fcfccf1b541b3",
     "locked": true,
     "schema_version": 3,
     "solution": false,
     "task": false
    },
    "tags": []
   },
   "source": [
    "## The embedding CNN\n",
    "\n",
    "We first build a convolutional neural network that embeds images into a lower-dimensional space.\n",
    "\n",
    "The exact architecture is not important in this exercise but the following architecture worked for us:\n",
    "* Four blocks with the following layers:\n",
    "    * `Conv2d` layer with kernel size 3 and 64 output channels, followed by `BatchNorm2d`, ReLU and 2d max pooling (with kernel 2 and stride 2).\n",
    "* A fully-connected layer with 64 output features."
   ]
  },
  {
   "cell_type": "code",
   "execution_count": 22,
   "metadata": {
    "deletable": false,
    "nbgrader": {
     "cell_type": "code",
     "checksum": "6dfed17ff38fd3944aae2c3e60a4829a",
     "grade": false,
     "grade_id": "CNN",
     "locked": false,
     "schema_version": 3,
     "solution": true,
     "task": false
    },
    "tags": []
   },
   "outputs": [],
   "source": [
    "class CNN(nn.Module):\n",
    "    # YOUR CODE HERE\n",
    "    def __init__(self):\n",
    "        super(CNN, self).__init__()\n",
    "        \n",
    "        # Define the four blocks\n",
    "        self.block1 = nn.Sequential(\n",
    "            nn.Conv2d(in_channels=1, out_channels=64, kernel_size=3, padding=1),\n",
    "            nn.BatchNorm2d(64),\n",
    "            nn.ReLU(),\n",
    "            nn.MaxPool2d(kernel_size=2, stride=2)\n",
    "        )\n",
    "        \n",
    "        self.block2 = nn.Sequential(\n",
    "            nn.Conv2d(in_channels=64, out_channels=64, kernel_size=3, padding=1),\n",
    "            nn.BatchNorm2d(64),\n",
    "            nn.ReLU(),\n",
    "            nn.MaxPool2d(kernel_size=2, stride=2)\n",
    "        )\n",
    "        \n",
    "        self.block3 = nn.Sequential(\n",
    "            nn.Conv2d(in_channels=64, out_channels=64, kernel_size=3, padding=1),\n",
    "            nn.BatchNorm2d(64),\n",
    "            nn.ReLU(),\n",
    "            nn.MaxPool2d(kernel_size=2, stride=2)\n",
    "        )\n",
    "        \n",
    "        self.block4 = nn.Sequential(\n",
    "            nn.Conv2d(in_channels=64, out_channels=64, kernel_size=3, padding=1),\n",
    "            nn.BatchNorm2d(64),\n",
    "            nn.ReLU(),\n",
    "            nn.MaxPool2d(kernel_size=2, stride=2)\n",
    "        )\n",
    "        \n",
    "        # Fully connected layer with 64 output features\n",
    "        self.fc = nn.Linear(64 * 1 * 1, 64)  # Assuming input images are 64x64 pixels\n",
    "        \n",
    "    def forward(self, x):\n",
    "        x = self.block1(x)\n",
    "        x = self.block2(x)\n",
    "        x = self.block3(x)\n",
    "        x = self.block4(x)\n",
    "        \n",
    "        # Flatten the output from the conv layers before the fully connected layer\n",
    "        x = x.view(x.size(0), -1)\n",
    "        x = self.fc(x)\n",
    "        \n",
    "        return x"
   ]
  },
  {
   "cell_type": "code",
   "execution_count": 23,
   "metadata": {
    "deletable": false,
    "editable": false,
    "nbgrader": {
     "cell_type": "code",
     "checksum": "5d0114d24b38aa98aa0cbd63db54bbcb",
     "grade": false,
     "grade_id": "cell-6036d06f90d0f6b4",
     "locked": true,
     "schema_version": 3,
     "solution": false,
     "task": false
    },
    "tags": []
   },
   "outputs": [
    {
     "name": "stdout",
     "output_type": "stream",
     "text": [
      "Success\n"
     ]
    }
   ],
   "source": [
    "def test_CNN_shapes():\n",
    "    net = CNN()\n",
    "\n",
    "    x = torch.randn(2, 1, 28, 28)\n",
    "    y = net(x)\n",
    "    assert y.shape == torch.Size([2, 64]), f\"Wrong y.shape: {y.shape}\"\n",
    "    print('Success')\n",
    "\n",
    "test_CNN_shapes()"
   ]
  },
  {
   "cell_type": "markdown",
   "metadata": {
    "deletable": false,
    "editable": false,
    "nbgrader": {
     "cell_type": "markdown",
     "checksum": "cfe6eeac5e4f5061cfa5c506c62d2865",
     "grade": false,
     "grade_id": "cell-3588e7f10c2b8e10",
     "locked": true,
     "schema_version": 3,
     "solution": false,
     "task": false
    }
   },
   "source": [
    "## One episode of training\n",
    "\n",
    "In the cell below, you need to implement building a computational graph for one episode of training of Prototypical Networks.\n",
    "\n",
    "The required steps:\n",
    "* Use the provided network to embed both support and query examples.\n",
    "* Compute one prototype per class using the support set. The prototypes are the mean values of the embeddings of the samples from the same class.\n",
    "* Compute the log-probabilities that the query samples belong to one of the n classes.\n",
    "  The probabilities are softmax of the negative squared Euclidean distance from an embedded sample to a class prototype.\n",
    "* Compute the negative log-likelihood loss using the query samples.\n",
    "\n",
    "Notes:\n",
    "* Try to avoid using for-loops. This will result in faster training and (possibly) better accuracy.\n",
    "* One reason why for-loops can affect training is batch normalization. If you compute the embeddings in a for-loop, the running estimates of the batch norm statistics will be different compared to computing the embeddings with one call of the CNN forward function.\n",
    "* **Your implementation should work for any values of `n_way`, `n_support`, `n_query` and for input images of any resolution.**"
   ]
  },
  {
   "cell_type": "code",
   "execution_count": 24,
   "metadata": {
    "deletable": false,
    "nbgrader": {
     "cell_type": "code",
     "checksum": "772695163c06c1eb52e9800bdced9dc9",
     "grade": false,
     "grade_id": "episode_pn",
     "locked": false,
     "schema_version": 3,
     "solution": true,
     "task": false
    },
    "tags": []
   },
   "outputs": [],
   "source": [
    "def episode_pn(net, support_query, n_support):\n",
    "    \"\"\"Build a computational graph for one episode of training of prototypical networks.\n",
    "    \n",
    "    Args:\n",
    "      net: An embedding network which takes as inputs tensors of shape (batch_size, n_channels, height, width)\n",
    "           and which outputs a tensor of shape (batch_size, n_features).\n",
    "      support_query of shape (n_way, n_support+n_query, 1, height, width):\n",
    "                      support_query[:, :n_support] is the support set\n",
    "                      support_query[:, n_support:] is the query set\n",
    "    \n",
    "    Returns:\n",
    "      loss (scalar tensor): The negative log-likelihood loss.\n",
    "      accuracy (float): The classification accuracy on the given example (needed for tracking the progress).\n",
    "      outputs of shape (n_way, n_query, n_way): Logits (log-softmax) of the probabilities of query classes\n",
    "          belonging to one of the n classes. The first dimension corresponds to the true class, the last\n",
    "          dimension corresponds to predicted classes.\n",
    "    \"\"\"\n",
    "    # YOUR CODE HERE\n",
    "    n_way, n_total, _, height, width = support_query.size()\n",
    "    n_query = n_total - n_support\n",
    "\n",
    "    # Flatten the support and query sets and pass through the network\n",
    "    support = support_query[:, :n_support].contiguous().view(n_way * n_support, 1, height, width)\n",
    "    query = support_query[:, n_support:].contiguous().view(n_way * n_query, 1, height, width)\n",
    "\n",
    "    support_embeddings = net(support)  # (n_way * n_support, n_features)\n",
    "    query_embeddings = net(query)      # (n_way * n_query, n_features)\n",
    "\n",
    "    # Compute prototypes\n",
    "    prototypes = support_embeddings.view(n_way, n_support, -1).mean(1)  # (n_way, n_features)\n",
    "\n",
    "    # Compute distances from query embeddings to prototypes\n",
    "    dists = euclidean_distance(query_embeddings, prototypes)  # (n_way * n_query, n_way)\n",
    "\n",
    "    # Compute log-probabilities (log softmax of negative distances)\n",
    "    log_p_y = F.log_softmax(-dists, dim=1)  # (n_way * n_query, n_way)\n",
    "\n",
    "    # Create labels for the query set\n",
    "    labels = torch.arange(n_way).repeat_interleave(n_query).to(log_p_y.device)  # (n_way * n_query,)\n",
    "\n",
    "    # Compute loss\n",
    "    loss = F.nll_loss(log_p_y, labels)\n",
    "\n",
    "    # Compute classification accuracy\n",
    "    _, y_hat = log_p_y.max(1)\n",
    "    accuracy = (y_hat == labels).float().mean().item()\n",
    "\n",
    "    # Reshape log_p_y to (n_way, n_query, n_way)\n",
    "    outputs = log_p_y.view(n_way, n_query, n_way)\n",
    "\n",
    "    return loss, accuracy, outputs\n",
    "\n",
    "# Helper function for euclidean distance\n",
    "def euclidean_distance(a, b):\n",
    "    n = a.size(0)\n",
    "    m = b.size(0)\n",
    "    a = a.unsqueeze(1).expand(n, m, -1)\n",
    "    b = b.unsqueeze(0).expand(n, m, -1)\n",
    "    return ((a - b) ** 2).sum(2)"
   ]
  },
  {
   "cell_type": "code",
   "execution_count": 25,
   "metadata": {
    "deletable": false,
    "editable": false,
    "nbgrader": {
     "cell_type": "code",
     "checksum": "9e5e9720479f4add088bb248ef261fcc",
     "grade": false,
     "grade_id": "cell-dfdb73fde9a8ea66",
     "locked": true,
     "schema_version": 3,
     "solution": false,
     "task": false
    },
    "tags": []
   },
   "outputs": [
    {
     "name": "stdout",
     "output_type": "stream",
     "text": [
      "Success\n"
     ]
    }
   ],
   "source": [
    "def test_episode_pn_shapes():\n",
    "    n_support = 2\n",
    "    n_query = 4\n",
    "    n_way = 5\n",
    "    support_query = torch.randn(n_way, n_support+n_query, 1, 28, 28)\n",
    "\n",
    "    net = CNN()\n",
    "    loss, accuracy, outputs = episode_pn(net, support_query, n_support)\n",
    "    assert loss.shape == torch.Size([]), \"Bad loss.shape\"\n",
    "    assert 0. <= float(accuracy) <= 1., \"accuracy should be a scalar between 0 and 1.\"\n",
    "    assert outputs.shape == torch.Size([n_way, n_query, n_way]), f\"Bad outputs.shape: {outputs.shape}\"\n",
    "    print('Success')\n",
    "\n",
    "test_episode_pn_shapes()"
   ]
  },
  {
   "cell_type": "code",
   "execution_count": 26,
   "metadata": {
    "deletable": false,
    "editable": false,
    "nbgrader": {
     "cell_type": "code",
     "checksum": "06210239fd1d2e910ebef26f9cff0eed",
     "grade": true,
     "grade_id": "test_episode_pn",
     "locked": true,
     "points": 2,
     "schema_version": 3,
     "solution": false,
     "task": false
    },
    "tags": []
   },
   "outputs": [
    {
     "name": "stdout",
     "output_type": "stream",
     "text": [
      "outputs:\n",
      " tensor([[[    0.,   -64.,  -256.,  -576., -1024.],\n",
      "         [  -64.,     0.,   -64.,  -256.,  -576.]],\n",
      "\n",
      "        [[  -64.,     0.,   -64.,  -256.,  -576.],\n",
      "         [ -256.,   -64.,     0.,   -64.,  -256.]],\n",
      "\n",
      "        [[ -256.,   -64.,     0.,   -64.,  -256.],\n",
      "         [ -576.,  -256.,   -64.,     0.,   -64.]],\n",
      "\n",
      "        [[ -576.,  -256.,   -64.,     0.,   -64.],\n",
      "         [-1024.,  -576.,  -256.,   -64.,     0.]],\n",
      "\n",
      "        [[-1024.,  -576.,  -256.,   -64.,     0.],\n",
      "         [-1536.,  -960.,  -512.,  -192.,     0.]]])\n",
      "loss: tensor(25.6000)\n",
      "accuracy: 0.6000000238418579\n",
      "expected accuracy: 0.6\n",
      "Success\n"
     ]
    }
   ],
   "source": [
    "# This cell tests episode_pn()\n",
    "def test_episode_pn_hidden(episode_pn):\n",
    "    n_support = 2\n",
    "    n_query = 2\n",
    "    n_way = 5\n",
    "  \n",
    "    sq = torch.tensor([\n",
    "        [0.,   2.,  1.,  2.],\n",
    "        [1.,   3.,  2.,  3.],\n",
    "        [2.,   4.,  3.,  4.],\n",
    "        [3.,   5.,  4.,  5.],\n",
    "        [4.,   6.,  5.,  6.],\n",
    "    ]) # (n_way, n_support+n_query)\n",
    "    support_query = sq.view(n_way, n_support+n_query, 1, 1, 1).repeat(1, 1, 1, 28, 28)\n",
    "\n",
    "    class _CNN(nn.Module):\n",
    "        def forward(self, x):\n",
    "            out = x[:, 0, 0, 0].view(-1, 1).repeat(1, 64)\n",
    "            return out\n",
    "\n",
    "    net = _CNN()\n",
    "    loss, accuracy, outputs = episode_pn(net, support_query, n_support)\n",
    "\n",
    "    print('outputs:\\n', outputs)\n",
    "    expected_d2 = torch.tensor([\n",
    "        [[    0.,   -64.,  -256.,  -576., -1024.],\n",
    "         [  -64.,     0.,   -64.,  -256.,  -576.]],\n",
    "\n",
    "        [[  -64.,     0.,   -64.,  -256.,  -576.],\n",
    "         [ -256.,   -64.,     0.,   -64.,  -256.]],\n",
    "\n",
    "        [[ -256.,   -64.,     0.,   -64.,  -256.],\n",
    "         [ -576.,  -256.,   -64.,     0.,   -64.]],\n",
    "\n",
    "        [[ -576.,  -256.,   -64.,     0.,   -64.],\n",
    "         [-1024.,  -576.,  -256.,   -64.,     0.]],\n",
    "\n",
    "        [[-1024.,  -576.,  -256.,   -64.,     0.],\n",
    "         [-1536.,  -960.,  -512.,  -192.,     0.]]\n",
    "    ])\n",
    "    expected_d = torch.tensor([\n",
    "        [[-3.3552e-04, -8.0003e+00, -1.6000e+01, -2.4000e+01, -3.2000e+01],\n",
    "         [-8.0007e+00, -6.7080e-04, -8.0007e+00, -1.6001e+01, -2.4001e+01]],\n",
    "\n",
    "        [[-8.0007e+00, -6.7080e-04, -8.0007e+00, -1.6001e+01, -2.4001e+01],\n",
    "         [-1.6001e+01, -8.0007e+00, -6.7092e-04, -8.0007e+00, -1.6001e+01]],\n",
    "\n",
    "        [[-1.6001e+01, -8.0007e+00, -6.7092e-04, -8.0007e+00, -1.6001e+01],\n",
    "         [-2.4001e+01, -1.6001e+01, -8.0007e+00, -6.7080e-04, -8.0007e+00]],\n",
    "\n",
    "        [[-2.4001e+01, -1.6001e+01, -8.0007e+00, -6.7080e-04, -8.0007e+00],\n",
    "         [-3.2000e+01, -2.4000e+01, -1.6000e+01, -8.0003e+00, -3.3552e-04]],\n",
    "\n",
    "        [[-3.2000e+01, -2.4000e+01, -1.6000e+01, -8.0003e+00, -3.3552e-04],\n",
    "         [-3.2000e+01, -2.4000e+01, -1.6000e+01, -8.0003e+00, -3.3552e-04]]\n",
    "    ])\n",
    "    #print('expected outputs:\\n', expected_d2)\n",
    "    assert torch.allclose(outputs, expected_d, rtol=1e-4, atol=10e-4) \\\n",
    "        or torch.allclose(outputs, expected_d2, rtol=1e-4, atol=10e-4), \"outputs does not match expected value\"\n",
    "\n",
    "    print('loss:', loss)\n",
    "    expected_d2 = torch.tensor(25.6000)\n",
    "    expected_d = torch.tensor(3.2005)\n",
    "    #print('expected loss:', expected_d2)\n",
    "    assert torch.allclose(loss, expected_d2, rtol=1e-4, atol=10e-4) \\\n",
    "        or torch.allclose(loss, expected_d, rtol=1e-4, atol=10e-4), \"loss does not match expected value\"\n",
    "\n",
    "    print('accuracy:', accuracy)\n",
    "    expected = .6\n",
    "    print('expected accuracy:', expected)\n",
    "    assert np.allclose(float(accuracy), expected), \"accuracy does not match expected value\"\n",
    "\n",
    "    print('Success')\n",
    "\n",
    "test_episode_pn_hidden(episode_pn)"
   ]
  },
  {
   "cell_type": "markdown",
   "metadata": {
    "deletable": false,
    "editable": false,
    "nbgrader": {
     "cell_type": "markdown",
     "checksum": "f3808714dd1651e6bbf0877803d90a26",
     "grade": false,
     "grade_id": "cell-a88e6a271b270c93",
     "locked": true,
     "schema_version": 3,
     "solution": false,
     "task": false
    }
   },
   "source": [
    "## Train Prototypical Networks\n",
    "\n",
    "In the cell below, we defing the data loaders.\n",
    "\n",
    "Note:\n",
    "* Increasing `num_workers` speeds up the training procedure. However, `num_workers > 0` does not work on some systems."
   ]
  },
  {
   "cell_type": "code",
   "execution_count": 28,
   "metadata": {
    "tags": []
   },
   "outputs": [
    {
     "name": "stdout",
     "output_type": "stream",
     "text": [
      "Files already downloaded and verified\n",
      "Files already downloaded and verified\n"
     ]
    }
   ],
   "source": [
    "# Prepare dataloader\n",
    "n_support = 1\n",
    "n_query = 3\n",
    "n_way = 5\n",
    "trainset = OmniglotFewShot(root=data_dir, n_support=n_support, n_query=n_query, train=True, mix=True)\n",
    "trainloader = DataLoader(dataset=trainset, batch_size=n_way, shuffle=True, pin_memory=True, num_workers=3)\n",
    "\n",
    "testset = OmniglotFewShot(root=data_dir, n_support=n_support, n_query=n_query, train=False, mix=True)\n",
    "testloader = DataLoader(dataset=testset, batch_size=n_way, shuffle=False, pin_memory=True, num_workers=3)"
   ]
  },
  {
   "cell_type": "code",
   "execution_count": 29,
   "metadata": {
    "deletable": false,
    "editable": false,
    "nbgrader": {
     "cell_type": "code",
     "checksum": "b8bb613890dea2d2bb8399b3165000c8",
     "grade": false,
     "grade_id": "cell-11ddbad3bea3148f",
     "locked": true,
     "schema_version": 3,
     "solution": false,
     "task": false
    },
    "tags": []
   },
   "outputs": [
    {
     "data": {
      "text/plain": [
       "CNN(\n",
       "  (block1): Sequential(\n",
       "    (0): Conv2d(1, 64, kernel_size=(3, 3), stride=(1, 1), padding=(1, 1))\n",
       "    (1): BatchNorm2d(64, eps=1e-05, momentum=0.1, affine=True, track_running_stats=True)\n",
       "    (2): ReLU()\n",
       "    (3): MaxPool2d(kernel_size=2, stride=2, padding=0, dilation=1, ceil_mode=False)\n",
       "  )\n",
       "  (block2): Sequential(\n",
       "    (0): Conv2d(64, 64, kernel_size=(3, 3), stride=(1, 1), padding=(1, 1))\n",
       "    (1): BatchNorm2d(64, eps=1e-05, momentum=0.1, affine=True, track_running_stats=True)\n",
       "    (2): ReLU()\n",
       "    (3): MaxPool2d(kernel_size=2, stride=2, padding=0, dilation=1, ceil_mode=False)\n",
       "  )\n",
       "  (block3): Sequential(\n",
       "    (0): Conv2d(64, 64, kernel_size=(3, 3), stride=(1, 1), padding=(1, 1))\n",
       "    (1): BatchNorm2d(64, eps=1e-05, momentum=0.1, affine=True, track_running_stats=True)\n",
       "    (2): ReLU()\n",
       "    (3): MaxPool2d(kernel_size=2, stride=2, padding=0, dilation=1, ceil_mode=False)\n",
       "  )\n",
       "  (block4): Sequential(\n",
       "    (0): Conv2d(64, 64, kernel_size=(3, 3), stride=(1, 1), padding=(1, 1))\n",
       "    (1): BatchNorm2d(64, eps=1e-05, momentum=0.1, affine=True, track_running_stats=True)\n",
       "    (2): ReLU()\n",
       "    (3): MaxPool2d(kernel_size=2, stride=2, padding=0, dilation=1, ceil_mode=False)\n",
       "  )\n",
       "  (fc): Linear(in_features=64, out_features=64, bias=True)\n",
       ")"
      ]
     },
     "execution_count": 29,
     "metadata": {},
     "output_type": "execute_result"
    }
   ],
   "source": [
    "# Create the model\n",
    "net = CNN()\n",
    "net.to(device)"
   ]
  },
  {
   "cell_type": "markdown",
   "metadata": {
    "deletable": false,
    "editable": false,
    "nbgrader": {
     "cell_type": "markdown",
     "checksum": "0f81cd86488a4c641de7da7445a00a8e",
     "grade": false,
     "grade_id": "cell-52691cce123039f7",
     "locked": true,
     "schema_version": 3,
     "solution": false,
     "task": false
    }
   },
   "source": [
    "### Training loop\n",
    "\n",
    "Implement the training loop in the cell below.\n",
    "\n",
    "Recommended hyperparameters:\n",
    "* Adam optimizer with learning rate 0.001. It helps to anneal the learning rate to 0.00001 during training (but it is not needed to pass the tests).\n",
    "\n",
    "Hints:\n",
    "* We recommended you to track training and test accuracies returned by function `episode_pn()`.\n",
    "* During training, both training and test accuracies should reach at least the level of 0.96. Note that we sample a limited number of tasks to compute the accuracies and therefore the accuracy values may fluctuate.\n",
    "* **Do not forget to set the network into the training mode during training and to evaluation mode during evaluation.**"
   ]
  },
  {
   "cell_type": "code",
   "execution_count": 31,
   "metadata": {
    "deletable": false,
    "nbgrader": {
     "cell_type": "code",
     "checksum": "6b16bb5e848bd6f932e2bb98fc139caf",
     "grade": false,
     "grade_id": "cell-09efd9860a9751d4",
     "locked": false,
     "schema_version": 3,
     "solution": true,
     "task": false
    },
    "tags": []
   },
   "outputs": [
    {
     "name": "stdout",
     "output_type": "stream",
     "text": [
      "Epoch 1/20 - Train Loss: 0.4222, Train Accuracy: 0.8524\n",
      "Epoch 1/20 - Test Loss: 0.3309, Test Accuracy: 0.8838\n",
      "Epoch 2/20 - Train Loss: 0.3182, Train Accuracy: 0.8996\n",
      "Epoch 2/20 - Test Loss: 0.3673, Test Accuracy: 0.9179\n",
      "Epoch 3/20 - Train Loss: 0.2607, Train Accuracy: 0.9078\n",
      "Epoch 3/20 - Test Loss: 0.2194, Test Accuracy: 0.9333\n",
      "Epoch 4/20 - Train Loss: 0.1858, Train Accuracy: 0.9494\n",
      "Epoch 4/20 - Test Loss: 0.2239, Test Accuracy: 0.9265\n",
      "Epoch 5/20 - Train Loss: 0.1857, Train Accuracy: 0.9372\n",
      "Epoch 5/20 - Test Loss: 0.2218, Test Accuracy: 0.9248\n",
      "Epoch 6/20 - Train Loss: 0.1585, Train Accuracy: 0.9485\n",
      "Epoch 6/20 - Test Loss: 0.1457, Test Accuracy: 0.9624\n",
      "Epoch 7/20 - Train Loss: 0.1306, Train Accuracy: 0.9519\n",
      "Epoch 7/20 - Test Loss: 0.1487, Test Accuracy: 0.9453\n",
      "Epoch 8/20 - Train Loss: 0.1422, Train Accuracy: 0.9524\n",
      "Epoch 8/20 - Test Loss: 0.2045, Test Accuracy: 0.9350\n",
      "Epoch 9/20 - Train Loss: 0.1076, Train Accuracy: 0.9593\n",
      "Epoch 9/20 - Test Loss: 0.1314, Test Accuracy: 0.9607\n",
      "Epoch 10/20 - Train Loss: 0.1516, Train Accuracy: 0.9511\n",
      "Epoch 10/20 - Test Loss: 0.2272, Test Accuracy: 0.9248\n",
      "Epoch 11/20 - Train Loss: 0.1099, Train Accuracy: 0.9623\n",
      "Epoch 11/20 - Test Loss: 0.1300, Test Accuracy: 0.9590\n",
      "Epoch 12/20 - Train Loss: 0.0894, Train Accuracy: 0.9706\n",
      "Epoch 12/20 - Test Loss: 0.1620, Test Accuracy: 0.9504\n",
      "Epoch 13/20 - Train Loss: 0.1680, Train Accuracy: 0.9450\n",
      "Epoch 13/20 - Test Loss: 0.2024, Test Accuracy: 0.9487\n",
      "Epoch 14/20 - Train Loss: 0.1141, Train Accuracy: 0.9645\n",
      "Epoch 14/20 - Test Loss: 0.1141, Test Accuracy: 0.9487\n",
      "Epoch 15/20 - Train Loss: 0.1005, Train Accuracy: 0.9667\n",
      "Epoch 15/20 - Test Loss: 0.2090, Test Accuracy: 0.9453\n",
      "Epoch 16/20 - Train Loss: 0.0993, Train Accuracy: 0.9632\n",
      "Epoch 16/20 - Test Loss: 0.1124, Test Accuracy: 0.9658\n",
      "Epoch 17/20 - Train Loss: 0.0950, Train Accuracy: 0.9688\n",
      "Epoch 17/20 - Test Loss: 0.1375, Test Accuracy: 0.9607\n",
      "Epoch 18/20 - Train Loss: 0.0647, Train Accuracy: 0.9766\n",
      "Epoch 18/20 - Test Loss: 0.2666, Test Accuracy: 0.9470\n",
      "Epoch 19/20 - Train Loss: 0.0763, Train Accuracy: 0.9710\n",
      "Epoch 19/20 - Test Loss: 0.2553, Test Accuracy: 0.9470\n",
      "Epoch 20/20 - Train Loss: 0.1239, Train Accuracy: 0.9641\n",
      "Epoch 20/20 - Test Loss: 0.2217, Test Accuracy: 0.9402\n"
     ]
    }
   ],
   "source": [
    "# Implement the training loop in this cell\n",
    "if not skip_training:\n",
    "    # YOUR CODE HERE\n",
    "    # Define the optimizer\n",
    "    optimizer = optim.Adam(net.parameters(), lr=0.001)\n",
    "    num_epochs = 20\n",
    "    \n",
    "    for epoch in range(num_epochs):\n",
    "        net.train()\n",
    "        train_loss = 0.0\n",
    "        train_accuracy = 0.0\n",
    "        train_episodes = 0\n",
    "\n",
    "        for i, support_query in enumerate(trainloader):\n",
    "            support_query = support_query.to(device)\n",
    "            loss, accuracy, _ = episode_pn(net, support_query, n_support)\n",
    "\n",
    "            optimizer.zero_grad()\n",
    "            loss.backward()\n",
    "            optimizer.step()\n",
    "\n",
    "            train_loss += loss.item()\n",
    "            train_accuracy += accuracy\n",
    "            train_episodes += 1\n",
    "\n",
    "        train_loss /= train_episodes\n",
    "        train_accuracy /= train_episodes\n",
    "\n",
    "        print(f'Epoch {epoch+1}/{num_epochs} - Train Loss: {train_loss:.4f}, Train Accuracy: {train_accuracy:.4f}')\n",
    "\n",
    "        net.eval()\n",
    "        test_loss = 0.0\n",
    "        test_accuracy = 0.0\n",
    "        test_episodes = 0\n",
    "\n",
    "        with torch.no_grad():\n",
    "            for i, support_query in enumerate(testloader):\n",
    "                support_query = support_query.to(device)\n",
    "                loss, accuracy, _ = episode_pn(net, support_query, n_support)\n",
    "\n",
    "                test_loss += loss.item()\n",
    "                test_accuracy += accuracy\n",
    "                test_episodes += 1\n",
    "\n",
    "        test_loss /= test_episodes\n",
    "        test_accuracy /= test_episodes\n",
    "\n",
    "        print(f'Epoch {epoch+1}/{num_epochs} - Test Loss: {test_loss:.4f}, Test Accuracy: {test_accuracy:.4f}')"
   ]
  },
  {
   "cell_type": "code",
   "execution_count": 32,
   "metadata": {
    "tags": []
   },
   "outputs": [
    {
     "name": "stdin",
     "output_type": "stream",
     "text": [
      "Do you want to save the model (type yes to confirm)?  yes\n"
     ]
    },
    {
     "name": "stdout",
     "output_type": "stream",
     "text": [
      "Model saved to 1_pn.pth.\n"
     ]
    }
   ],
   "source": [
    "# Save the model to disk (the pth-files will be submitted automatically together with your notebook)\n",
    "# Set confirm=False if you do not want to be asked for confirmation before saving.\n",
    "if not skip_training:\n",
    "    tools.save_model(net, '1_pn.pth', confirm=True)"
   ]
  },
  {
   "cell_type": "code",
   "execution_count": 42,
   "metadata": {
    "deletable": false,
    "editable": false,
    "nbgrader": {
     "cell_type": "code",
     "checksum": "53ad9b18adbe3d98925f32d4813e6e37",
     "grade": false,
     "grade_id": "cell-88c8729b8d92cfec",
     "locked": true,
     "schema_version": 3,
     "solution": false,
     "task": false
    },
    "tags": []
   },
   "outputs": [
    {
     "name": "stdout",
     "output_type": "stream",
     "text": [
      "Model loaded from 1_pn.pth.\n"
     ]
    }
   ],
   "source": [
    "if skip_training:\n",
    "    net = CNN()\n",
    "    tools.load_model(net, '1_pn.pth', device)"
   ]
  },
  {
   "cell_type": "code",
   "execution_count": 43,
   "metadata": {
    "deletable": false,
    "editable": false,
    "nbgrader": {
     "cell_type": "code",
     "checksum": "928c46f9bba94d93478392896a5f7a8e",
     "grade": true,
     "grade_id": "test_accuracy",
     "locked": true,
     "points": 4,
     "schema_version": 3,
     "solution": false,
     "task": false
    },
    "tags": []
   },
   "outputs": [
    {
     "name": "stdout",
     "output_type": "stream",
     "text": [
      "accuracy: 0.9572649598121643\n",
      "Success\n"
     ]
    }
   ],
   "source": [
    "# This cell tests the accuracy of your model\n",
    "def test_accuracy(net, testloader):\n",
    "    n_support = 1\n",
    "    n_query = 3\n",
    "    net.eval()\n",
    "    with torch.no_grad():\n",
    "        test_accs = []\n",
    "        for i, support_query in enumerate(testloader):\n",
    "            _, acc, outputs = episode_pn(net, support_query.to(device), n_support)\n",
    "            # My estimation of accuracy\n",
    "            n_way = support_query.size(0)\n",
    "            targets = torch.arange(n_way).view(n_way, 1).repeat(1, n_query).to(device)\n",
    "            acc = (outputs.argmax(dim=2) == targets).sum().float() / targets.numel()\n",
    "            test_accs.append(float(acc))\n",
    "    accuracy = np.mean(test_accs)\n",
    "    print('accuracy:', accuracy)\n",
    "    assert accuracy >= 0.9, 'Poor accuracy of the prototypical networks.'\n",
    "    print('Success')\n",
    "\n",
    "test_accuracy(net, testloader)"
   ]
  },
  {
   "cell_type": "markdown",
   "metadata": {
    "deletable": false,
    "editable": false,
    "nbgrader": {
     "cell_type": "markdown",
     "checksum": "9a384d59fc718781a332904c7e24e0cc",
     "grade": false,
     "grade_id": "cell-364bddb7a74b7f4c",
     "locked": true,
     "schema_version": 3,
     "solution": false,
     "task": false
    }
   },
   "source": [
    "# Test the trained model"
   ]
  },
  {
   "cell_type": "code",
   "execution_count": 44,
   "metadata": {
    "deletable": false,
    "editable": false,
    "nbgrader": {
     "cell_type": "code",
     "checksum": "580359701032650fc35891b6a5e0c4f7",
     "grade": false,
     "grade_id": "cell-a8e2f2267077b11d",
     "locked": true,
     "schema_version": 3,
     "solution": false,
     "task": false
    },
    "tags": []
   },
   "outputs": [
    {
     "name": "stdout",
     "output_type": "stream",
     "text": [
      "tensor([[3, 3, 4],\n",
      "        [1, 1, 1],\n",
      "        [2, 2, 2],\n",
      "        [0, 3, 0],\n",
      "        [4, 4, 4]])\n"
     ]
    }
   ],
   "source": [
    "# Use one clasification task from the test set\n",
    "net.eval()\n",
    "with torch.no_grad():\n",
    "    support_query = next(iter(testloader))\n",
    "    _, acc, outputs = episode_pn(net, support_query.to(device), n_support=1)\n",
    "    print(outputs.argmax(dim=2))"
   ]
  },
  {
   "cell_type": "markdown",
   "metadata": {
    "deletable": false,
    "editable": false,
    "nbgrader": {
     "cell_type": "markdown",
     "checksum": "9a596a1e47b0fbe350f430c5e447724e",
     "grade": false,
     "grade_id": "cell-d9cb299e4585a009",
     "locked": true,
     "schema_version": 3,
     "solution": false,
     "task": false
    }
   },
   "source": [
    "## Interactive demo\n",
    "\n",
    "Please take a look at the demo in [the blog post](https://openai.com/blog/reptile/) about another meta-learning algorithm called Reptile.\n",
    "\n",
    "In the cell below, you can test your prototypical network in a similar setup. In the first row of the figure below, you can draw new classes (support set) using your mouse. Then, you can create three query examples in the second row of the figure."
   ]
  },
  {
   "cell_type": "code",
   "execution_count": 39,
   "metadata": {
    "deletable": false,
    "editable": false,
    "nbgrader": {
     "cell_type": "code",
     "checksum": "c9d41114b1e34e94b261ba3e5ca6c253",
     "grade": false,
     "grade_id": "cell-e61b5a23b1ea87d5",
     "locked": true,
     "schema_version": 3,
     "solution": false,
     "task": false
    },
    "tags": []
   },
   "outputs": [
    {
     "data": {
      "application/vnd.jupyter.widget-view+json": {
       "model_id": "4842e3a5d3ad4ff0a907be48620026a6",
       "version_major": 2,
       "version_minor": 0
      },
      "image/png": "[encoded data removed]",
      "text/html": [
       "\n",
       "            <div style=\"display: inline-block;\">\n",
       "                <div class=\"jupyter-widgets widget-label\" style=\"text-align: center;\">\n",
       "                    Figure\n",
       "                </div>\n",
       "                <img src='data:image/png;base64,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' width=800.0/>\n",
       "            </div>\n",
       "        "
      ],
      "text/plain": [
       "Canvas(toolbar=Toolbar(toolitems=[('Home', 'Reset original view', 'home', 'home'), ('Back', 'Back to previous …"
      ]
     },
     "metadata": {},
     "output_type": "display_data"
    }
   ],
   "source": [
    "canvas = tests.Canvas()"
   ]
  },
  {
   "cell_type": "markdown",
   "metadata": {
    "deletable": false,
    "editable": false,
    "nbgrader": {
     "cell_type": "markdown",
     "checksum": "924abd5b8121530fc7716a1b4022dd3e",
     "grade": false,
     "grade_id": "cell-c7f4ebeab3a34177",
     "locked": true,
     "schema_version": 3,
     "solution": false,
     "task": false
    }
   },
   "source": [
    "In the next cell, we classify the images of the query set to one of three classes specified by the support set.\n",
    "The colors of the frames in the bottom row represent the labels produced by the classifier for the query set."
   ]
  },
  {
   "cell_type": "code",
   "execution_count": 45,
   "metadata": {
    "deletable": false,
    "editable": false,
    "nbgrader": {
     "cell_type": "code",
     "checksum": "998274ef2834ed73cd93235e0634a850",
     "grade": false,
     "grade_id": "cell-ed7f71cbf32306b2",
     "locked": true,
     "schema_version": 3,
     "solution": false,
     "task": false
    },
    "tags": []
   },
   "outputs": [
    {
     "name": "stdout",
     "output_type": "stream",
     "text": [
      "torch.Size([3, 2, 1, 28, 28])\n"
     ]
    },
    {
     "data": {
      "application/vnd.jupyter.widget-view+json": {
       "model_id": "217a1791ba7644d998d00e2d31b58d6d",
       "version_major": 2,
       "version_minor": 0
      },
      "image/png": "[encoded data removed]",
      "text/html": [
       "\n",
       "            <div style=\"display: inline-block;\">\n",
       "                <div class=\"jupyter-widgets widget-label\" style=\"text-align: center;\">\n",
       "                    Figure\n",
       "                </div>\n",
       "                <img src='data:image/png;base64,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' width=800.0/>\n",
       "            </div>\n",
       "        "
      ],
      "text/plain": [
       "Canvas(toolbar=Toolbar(toolitems=[('Home', 'Reset original view', 'home', 'home'), ('Back', 'Back to previous …"
      ]
     },
     "metadata": {},
     "output_type": "display_data"
    }
   ],
   "source": [
    "# Convert images into torch tensors\n",
    "support_query = canvas.get_images()\n",
    "print(support_query.shape)\n",
    "\n",
    "net.eval()\n",
    "with torch.no_grad():\n",
    "    _, _, outputs = episode_pn(net, support_query.float().to(device), n_support=1)\n",
    "    # outputs is (n_way, n_query, n_way)\n",
    "classes = outputs.argmax(dim=2).view(-1)\n",
    "\n",
    "tests.plot_classification(support_query, classes)"
   ]
  },
  {
   "cell_type": "markdown",
   "metadata": {
    "deletable": false,
    "editable": false,
    "nbgrader": {
     "cell_type": "markdown",
     "checksum": "e76f9c1ff7b71b38682ff2d84db8e566",
     "grade": false,
     "grade_id": "cell-29d055bc39296797",
     "locked": true,
     "schema_version": 3,
     "solution": false,
     "task": false
    }
   },
   "source": [
    "<div class=\"alert alert-block alert-info\">\n",
    "<b>Conclusions</b>\n",
    "</div>\n",
    "\n",
    "In this exercise, we learned how to train prototypical networks for few-shot learning."
   ]
  }
 ],
 "metadata": {
  "kernelspec": {
   "display_name": "Python 3",
   "language": "python",
   "name": "python3"
  },
  "language_info": {
   "codemirror_mode": {
    "name": "ipython",
    "version": 3
   },
   "file_extension": ".py",
   "mimetype": "text/x-python",
   "name": "python",
   "nbconvert_exporter": "python",
   "pygments_lexer": "ipython3",
   "version": "3.10.12"
  },
  "varInspector": {
   "cols": {
    "lenName": 16,
    "lenType": 16,
    "lenVar": 40
   },
   "kernels_config": {
    "python": {
     "delete_cmd_postfix": "",
     "delete_cmd_prefix": "del ",
     "library": "var_list.py",
     "varRefreshCmd": "print(var_dic_list())"
    },
    "r": {
     "delete_cmd_postfix": ") ",
     "delete_cmd_prefix": "rm(",
     "library": "var_list.r",
     "varRefreshCmd": "cat(var_dic_list()) "
    }
   },
   "types_to_exclude": [
    "module",
    "function",
    "builtin_function_or_method",
    "instance",
    "_Feature"
   ],
   "window_display": false
  }
 },
 "nbformat": 4,
 "nbformat_minor": 4
}
